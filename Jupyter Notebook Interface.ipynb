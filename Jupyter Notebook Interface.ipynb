{
 "cells": [
  {
   "cell_type": "code",
   "execution_count": 1,
   "metadata": {},
   "outputs": [
    {
     "name": "stdout",
     "output_type": "stream",
     "text": [
      "\n",
      "\n",
      "Initiating property assessment for: 317 Newell St, Barberton, OH 44203\n",
      "Property assessment for 317 Newell St, Barberton, OH 44203 completed in time (mins:secs): 2:34\n"
     ]
    }
   ],
   "source": [
    "import os\n",
    "import warnings\n",
    "import Codes.master_property_assessment as mpa\n",
    "warnings.filterwarnings('ignore')\n",
    "\n",
    "# List all .yml files in the current directory\n",
    "yml_files = [file for file in os.listdir('.') if file.endswith('.yml')]\n",
    "\n",
    "# Run property assessment on each .yml file\n",
    "for yml_file in yml_files:\n",
    "    mpa.run_property_assessment(yml_file)"
   ]
  },
  {
   "cell_type": "code",
   "execution_count": null,
   "metadata": {},
   "outputs": [],
   "source": []
  },
  {
   "cell_type": "code",
   "execution_count": null,
   "metadata": {},
   "outputs": [],
   "source": []
  },
  {
   "cell_type": "code",
   "execution_count": null,
   "metadata": {},
   "outputs": [],
   "source": [
    "# Future ideas:\n",
    "# 1. Scenario Analysis: What if the property is sold in 5 years? What if the property is sold in 10 years? Different mortgage rates, etc.\n",
    "# 2. Consider upgrading LLM to a more advanced model\n",
    "# 3. Add FEMA flood risk data scraping/sourcing"
   ]
  }
 ],
 "metadata": {
  "kernelspec": {
   "display_name": "Python 3",
   "language": "python",
   "name": "python3"
  },
  "language_info": {
   "codemirror_mode": {
    "name": "ipython",
    "version": 3
   },
   "file_extension": ".py",
   "mimetype": "text/x-python",
   "name": "python",
   "nbconvert_exporter": "python",
   "pygments_lexer": "ipython3",
   "version": "3.12.7"
  }
 },
 "nbformat": 4,
 "nbformat_minor": 2
}
