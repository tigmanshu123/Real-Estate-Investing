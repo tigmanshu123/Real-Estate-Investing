{
 "cells": [
  {
   "cell_type": "code",
   "execution_count": 1,
   "metadata": {},
   "outputs": [
    {
     "name": "stdout",
     "output_type": "stream",
     "text": [
      "\n",
      "\n",
      "Initiating property assessment for: 317 Newell St, Barberton, OH 44203\n",
      "Property assessment for 317 Newell St, Barberton, OH 44203 completed in time (mins:secs): 0:14\n"
     ]
    }
   ],
   "source": [
    "import os\n",
    "import warnings\n",
    "import Codes.master_property_assessment as mpa\n",
    "warnings.filterwarnings('ignore')\n",
    "\n",
    "# List all .yml files in the current directory\n",
    "yml_files = [file for file in os.listdir('.') if file.endswith('.yml')]\n",
    "\n",
    "# Run property assessment on each .yml file\n",
    "for yml_file in yml_files:\n",
    "    mpa.run_property_assessment(yml_file)"
   ]
  },
  {
   "cell_type": "code",
   "execution_count": null,
   "metadata": {},
   "outputs": [],
   "source": []
  },
  {
   "cell_type": "code",
   "execution_count": null,
   "metadata": {},
   "outputs": [],
   "source": []
  },
  {
   "cell_type": "code",
   "execution_count": null,
   "metadata": {},
   "outputs": [],
   "source": []
  },
  {
   "cell_type": "code",
   "execution_count": null,
   "metadata": {},
   "outputs": [],
   "source": []
  },
  {
   "cell_type": "code",
   "execution_count": 4,
   "metadata": {},
   "outputs": [],
   "source": [
    "import os\n",
    "import glob\n",
    "from datetime import datetime\n",
    "import markdown\n",
    "import re\n",
    "import pdfkit\n",
    "\n",
    "# Function to create CSS for HTML conversion\n",
    "def create_css(output_css_path=None, font_family='Arial', font_size_base='14px', header_color='#333', primary_color='#555'):\n",
    "    \"\"\"\n",
    "    Creates a CSS file to style HTML content for a report.\n",
    "\n",
    "    Parameters:\n",
    "    logo_path (str): Path to the company logo.\n",
    "    output_css_path (str, optional): Path to save the generated CSS file. If not provided, it will be saved in the same directory as the logo.\n",
    "    font_family (str): Font family to be used for the document text. Default is 'Arial'.\n",
    "    font_size_base (str): Base font size for the document text. Default is '14px'.\n",
    "    header_color (str): Color for the header text (h1, h2, h3). Default is '#333'.\n",
    "    primary_color (str): Primary text color for the body. Default is '#555'.\n",
    "\n",
    "    Returns:\n",
    "    str: The path to the generated CSS file.\n",
    "    \"\"\"\n",
    "    css_content = f'''\n",
    "    body {{\n",
    "        font-family: {font_family}, sans-serif;\n",
    "        font-size: {font_size_base};\n",
    "        color: {primary_color};\n",
    "    }}\n",
    "    .cover {{\n",
    "        text-align: center;\n",
    "        margin-top: 100px;\n",
    "    }}\n",
    "    .logo {{\n",
    "        position: absolute;\n",
    "        top: 10px;\n",
    "        left: 10px;\n",
    "        width: 100px;\n",
    "    }}\n",
    "    .footer {{\n",
    "        position: fixed;\n",
    "        bottom: 0;\n",
    "        width: 100%;\n",
    "        text-align: center;\n",
    "        font-size: 12px;\n",
    "    }}\n",
    "    h1 {{\n",
    "        font-size: 28px;\n",
    "        font-weight: bold;\n",
    "        color: {header_color};\n",
    "    }}\n",
    "    h2 {{\n",
    "        font-size: 24px;\n",
    "        font-weight: bold;\n",
    "        color: {header_color};\n",
    "    }}\n",
    "    h3 {{\n",
    "        font-size: 20px;\n",
    "        font-weight: bold;\n",
    "        color: {header_color};\n",
    "    }}\n",
    "    table {{\n",
    "        width: 100%;\n",
    "        border-collapse: collapse;\n",
    "        margin-top: 20px;\n",
    "    }}\n",
    "    table, th, td {{\n",
    "        border: 1px solid black;\n",
    "    }}\n",
    "    th, td {{\n",
    "        padding: 10px;\n",
    "        text-align: left;\n",
    "    }}\n",
    "    '''\n",
    "    if output_css_path:\n",
    "        if os.path.isdir(output_css_path):\n",
    "            css_path = os.path.join(output_css_path, 'style.css')\n",
    "        else:\n",
    "            css_path = output_css_path\n",
    "    with open(css_path, 'w') as css_file:\n",
    "        css_file.write(css_content)\n",
    "    return css_path"
   ]
  },
  {
   "cell_type": "code",
   "execution_count": 18,
   "metadata": {},
   "outputs": [],
   "source": [
    "def convert_md_to_html(md_folder, html_folder, css_path):\n",
    "    \"\"\"\n",
    "    Converts all Markdown files in the specified folder to HTML files, applying the provided CSS.\n",
    "\n",
    "    Parameters:\n",
    "    md_folder (str): Path to the folder containing Markdown files.\n",
    "    html_folder (str): Path to the folder where HTML files will be saved.\n",
    "    css_path (str): Path to the CSS file to be applied to the HTML files.\n",
    "    \"\"\"\n",
    "    if not os.path.exists(html_folder):\n",
    "        os.makedirs(html_folder)\n",
    "\n",
    "    md_files = glob.glob(os.path.join(md_folder, '*.md'))\n",
    "\n",
    "    for md_file in md_files:\n",
    "        with open(md_file, 'r') as file:\n",
    "            md_content = file.read()\n",
    "\n",
    "            # Preprocess Markdown content to handle image paths\n",
    "            def replace_image_paths(match):\n",
    "                alt_text = match.group(1)\n",
    "                img_path = match.group(2).replace('\\\\', '/')\n",
    "                if not os.path.isabs(img_path):\n",
    "                    img_path = os.path.relpath(os.path.join(md_folder, img_path), html_folder).replace('\\\\', '/')\n",
    "                return f'<img src=\"{img_path}\" alt=\"{alt_text}\" style=\"width: 80%; margin-top: 20px;\">'\n",
    "\n",
    "            md_content = re.sub(r'!\\[([^\\]]+)\\]\\(([^\\)]+)\\)', replace_image_paths, md_content)\n",
    "\n",
    "            # Convert Markdown to HTML\n",
    "            html_content = markdown.markdown(md_content, extensions=['tables'])\n",
    "\n",
    "            # Create full HTML with CSS link\n",
    "            html_output = f\"\"\"\n",
    "            <html>\n",
    "            <head>\n",
    "                <link rel=\"stylesheet\" type=\"text/css\" href=\"file:///{css_path}\">\n",
    "            </head>\n",
    "            <body>\n",
    "                {html_content}\n",
    "            </body>\n",
    "            </html>\n",
    "            \"\"\"\n",
    "\n",
    "            # Save HTML to file\n",
    "            html_file_name = os.path.splitext(os.path.basename(md_file))[0] + '.html'\n",
    "            html_file_path = os.path.join(html_folder, html_file_name)\n",
    "            with open(html_file_path, 'w') as html_file:\n",
    "                html_file.write(html_output)\n",
    "\n",
    "    print(f\"Converted {len(md_files)} Markdown files to HTML in folder: {html_folder}\")\n"
   ]
  },
  {
   "cell_type": "code",
   "execution_count": 20,
   "metadata": {},
   "outputs": [],
   "source": [
    "def convert_html_to_pdf(html_folder, output_pdf_path):\n",
    "    \"\"\"\n",
    "    Converts all HTML files in the specified folder into a single PDF file.\n",
    "\n",
    "    Parameters:\n",
    "    html_folder (str): Path to the folder containing HTML files.\n",
    "    output_pdf_path (str): Path to save the generated PDF file.\n",
    "    \"\"\"\n",
    "    html_files = glob.glob(os.path.join(html_folder, '*.html'))\n",
    "\n",
    "    if not html_files:\n",
    "        print(\"No HTML files found to convert.\")\n",
    "        return\n",
    "\n",
    "    try:\n",
    "        pdfkit.from_file(html_files, output_pdf_path)\n",
    "        print(f\"PDF successfully generated at {output_pdf_path}\")\n",
    "    except Exception as e:\n",
    "        print(f\"An error occurred while generating the PDF: {e}\")"
   ]
  },
  {
   "cell_type": "code",
   "execution_count": 6,
   "metadata": {},
   "outputs": [],
   "source": [
    "csspath = create_css(output_css_path=\"Utilities/\", font_family='Arial', font_size_base='14px', header_color='#333', primary_color='#555')"
   ]
  },
  {
   "cell_type": "code",
   "execution_count": 19,
   "metadata": {},
   "outputs": [
    {
     "name": "stdout",
     "output_type": "stream",
     "text": [
      "Converted 6 Markdown files to HTML in folder: 317 Newell St/Documentation/HTML Files/\n"
     ]
    }
   ],
   "source": [
    "convert_md_to_html(\"317 Newell St/Documentation/MD Files/\", \"317 Newell St/Documentation/HTML Files/\", csspath)"
   ]
  },
  {
   "cell_type": "code",
   "execution_count": 22,
   "metadata": {},
   "outputs": [
    {
     "name": "stdout",
     "output_type": "stream",
     "text": [
      "An error occurred while generating the PDF: wkhtmltopdf reported an error:\n",
      "Exit with code 1 due to network error: ProtocolUnknownError\n",
      "\n"
     ]
    }
   ],
   "source": [
    "convert_html_to_pdf(\"317 Newell St/Documentation/HTML Files/\", \"317 Newell St/Documentation/PDF Files/\")"
   ]
  },
  {
   "cell_type": "code",
   "execution_count": null,
   "metadata": {},
   "outputs": [],
   "source": []
  }
 ],
 "metadata": {
  "kernelspec": {
   "display_name": "Python 3",
   "language": "python",
   "name": "python3"
  },
  "language_info": {
   "codemirror_mode": {
    "name": "ipython",
    "version": 3
   },
   "file_extension": ".py",
   "mimetype": "text/x-python",
   "name": "python",
   "nbconvert_exporter": "python",
   "pygments_lexer": "ipython3",
   "version": "3.12.7"
  }
 },
 "nbformat": 4,
 "nbformat_minor": 2
}
